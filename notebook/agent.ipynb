{
 "cells": [
  {
   "cell_type": "code",
   "execution_count": 1,
   "id": "7fd408df",
   "metadata": {},
   "outputs": [
    {
     "name": "stdout",
     "output_type": "stream",
     "text": [
      "Python 3.13.5\n"
     ]
    }
   ],
   "source": [
    "!python --version\n"
   ]
  },
  {
   "cell_type": "code",
   "execution_count": 2,
   "id": "08aad9aa",
   "metadata": {},
   "outputs": [],
   "source": [
    "from langchain_community.tools import WikipediaQueryRun\n",
    "from langchain_community.utilities import WikipediaAPIWrapper"
   ]
  },
  {
   "cell_type": "code",
   "execution_count": 3,
   "id": "c76465e7",
   "metadata": {},
   "outputs": [],
   "source": [
    "api_wrapper = WikipediaAPIWrapper(top_k_results=1,doc_content_chars_max=200)\n",
    "wiki=WikipediaQueryRun(api_wrapper=api_wrapper)"
   ]
  },
  {
   "cell_type": "code",
   "execution_count": 4,
   "id": "f42c8f4b",
   "metadata": {},
   "outputs": [
    {
     "data": {
      "text/plain": [
       "'wikipedia'"
      ]
     },
     "execution_count": 4,
     "metadata": {},
     "output_type": "execute_result"
    }
   ],
   "source": [
    "wiki.name"
   ]
  },
  {
   "cell_type": "code",
   "execution_count": 5,
   "id": "a92e6f07",
   "metadata": {},
   "outputs": [
    {
     "data": {
      "text/plain": [
       "'arxiv'"
      ]
     },
     "execution_count": 5,
     "metadata": {},
     "output_type": "execute_result"
    }
   ],
   "source": [
    "## Arxiv Tool\n",
    "from langchain_community.utilities import ArxivAPIWrapper\n",
    "from langchain_community.tools import ArxivQueryRun\n",
    "\n",
    "arxiv_wrapper=ArxivAPIWrapper(top_k_results=1, doc_content_chars_max=200)\n",
    "arxiv=ArxivQueryRun(api_wrapper=arxiv_wrapper)\n",
    "arxiv.name"
   ]
  },
  {
   "cell_type": "code",
   "execution_count": 8,
   "id": "66808a54",
   "metadata": {},
   "outputs": [
    {
     "data": {
      "text/plain": [
       "VectorStoreRetriever(tags=['FAISS', 'HuggingFaceEmbeddings'], vectorstore=<langchain_community.vectorstores.faiss.FAISS object at 0x0000014FF36F1BD0>, search_kwargs={})"
      ]
     },
     "execution_count": 8,
     "metadata": {},
     "output_type": "execute_result"
    }
   ],
   "source": [
    "from langchain_community.document_loaders import WebBaseLoader\n",
    "from langchain_community.vectorstores import FAISS\n",
    "from langchain_huggingface import HuggingFaceEmbeddings\n",
    "from langchain_text_splitters import RecursiveCharacterTextSplitter\n",
    "\n",
    "loader=WebBaseLoader(\"https://docs.smith.langchain.com/\")\n",
    "docs=loader.load()\n",
    "documents=RecursiveCharacterTextSplitter(chunk_size=1000,chunk_overlap=200).split_documents(docs)\n",
    "embeddings = HuggingFaceEmbeddings(model_name=\"sentence-transformers/all-mpnet-base-v2\")\n",
    "vectordb=FAISS.from_documents(documents,embeddings)\n",
    "retriever=vectordb.as_retriever()\n",
    "retriever"
   ]
  },
  {
   "cell_type": "code",
   "execution_count": 11,
   "id": "9e2b9096",
   "metadata": {},
   "outputs": [],
   "source": [
    "from langchain_core.tools.retriever import create_retriever_tool\n",
    "retriever_tool=create_retriever_tool(retriever,\"langsmith_search\",\n",
    "                      \"Search for information about LangSmith. For any questions about LangSmith, you must use this tool!\")"
   ]
  },
  {
   "cell_type": "code",
   "execution_count": 12,
   "id": "738346d7",
   "metadata": {},
   "outputs": [
    {
     "data": {
      "text/plain": [
       "'langsmith_search'"
      ]
     },
     "execution_count": 12,
     "metadata": {},
     "output_type": "execute_result"
    }
   ],
   "source": [
    "retriever_tool.name"
   ]
  },
  {
   "cell_type": "code",
   "execution_count": 14,
   "id": "7bc413d1",
   "metadata": {},
   "outputs": [
    {
     "data": {
      "text/plain": [
       "[WikipediaQueryRun(api_wrapper=WikipediaAPIWrapper(wiki_client=<module 'wikipedia' from 'c:\\\\Users\\\\Administrator\\\\Desktop\\\\rag1\\\\.venv\\\\Lib\\\\site-packages\\\\wikipedia\\\\__init__.py'>, top_k_results=1, lang='en', load_all_available_meta=False, doc_content_chars_max=200)),\n",
       " ArxivQueryRun(api_wrapper=ArxivAPIWrapper(arxiv_search=<class 'arxiv.Search'>, arxiv_exceptions=(<class 'arxiv.ArxivError'>, <class 'arxiv.UnexpectedEmptyPageError'>, <class 'arxiv.HTTPError'>), top_k_results=1, ARXIV_MAX_QUERY_LENGTH=300, continue_on_failure=False, load_max_docs=100, load_all_available_meta=False, doc_content_chars_max=200)),\n",
       " Tool(name='langsmith_search', description='Search for information about LangSmith. For any questions about LangSmith, you must use this tool!', args_schema=<class 'langchain_core.tools.retriever.RetrieverInput'>, func=functools.partial(<function _get_relevant_documents at 0x0000014FF6A37560>, retriever=VectorStoreRetriever(tags=['FAISS', 'HuggingFaceEmbeddings'], vectorstore=<langchain_community.vectorstores.faiss.FAISS object at 0x0000014FF36F1BD0>, search_kwargs={}), document_prompt=PromptTemplate(input_variables=['page_content'], input_types={}, partial_variables={}, template='{page_content}'), document_separator='\\n\\n', response_format='content'), coroutine=functools.partial(<function _aget_relevant_documents at 0x0000014FF6A49D00>, retriever=VectorStoreRetriever(tags=['FAISS', 'HuggingFaceEmbeddings'], vectorstore=<langchain_community.vectorstores.faiss.FAISS object at 0x0000014FF36F1BD0>, search_kwargs={}), document_prompt=PromptTemplate(input_variables=['page_content'], input_types={}, partial_variables={}, template='{page_content}'), document_separator='\\n\\n', response_format='content'))]"
      ]
     },
     "execution_count": 14,
     "metadata": {},
     "output_type": "execute_result"
    }
   ],
   "source": [
    "tools = [wiki, arxiv,retriever_tool]\n",
    "tools"
   ]
  },
  {
   "cell_type": "code",
   "execution_count": 16,
   "id": "d527cdc3",
   "metadata": {},
   "outputs": [],
   "source": [
    "from dotenv import load_dotenv\n",
    "import os\n",
    "\n",
    "load_dotenv()  # Loads variables from .env file\n",
    "groq_api_key = os.environ.get(\"GROQ_API_KEY\")"
   ]
  },
  {
   "cell_type": "code",
   "execution_count": 52,
   "id": "d9fa6feb",
   "metadata": {},
   "outputs": [],
   "source": [
    "from langchain_groq import ChatGroq\n",
    "llm = ChatGroq(temperature=0, model_name=\"llama-3.3-70b-versatile\")"
   ]
  },
  {
   "cell_type": "code",
   "execution_count": 53,
   "id": "dfca7fa0",
   "metadata": {},
   "outputs": [],
   "source": [
    "from langchain_core.prompts import ChatPromptTemplate\n",
    "prompt = ChatPromptTemplate.from_messages([(\"system\",\"You are a helpful Search Assistant\"),\n",
    "                                           (\"human\",\"{input}\"),\n",
    "                                           (\"placeholder\",\"{agent_scratchpad}\")])"
   ]
  },
  {
   "cell_type": "code",
   "execution_count": 63,
   "id": "4d5c4937",
   "metadata": {},
   "outputs": [],
   "source": [
    "from langchain.agents import create_agent\n",
    "search_agent = create_agent(\n",
    "    llm,\n",
    "    tools,\n",
    "    system_prompt=\"You are a helpful assistant\"\n",
    ")\n"
   ]
  },
  {
   "cell_type": "code",
   "execution_count": 65,
   "id": "7170e942",
   "metadata": {},
   "outputs": [
    {
     "data": {
      "text/plain": [
       "{'messages': [HumanMessage(content='Tell me about Langsmith from langsmith search', additional_kwargs={}, response_metadata={}, id='9aab0342-4b4b-4f9c-8420-935401ce45aa'),\n",
       "  AIMessage(content='', additional_kwargs={'tool_calls': [{'id': 'mp1z7emdx', 'function': {'arguments': '{\"query\":\"Langsmith information\"}', 'name': 'langsmith_search'}, 'type': 'function'}]}, response_metadata={'token_usage': {'completion_tokens': 18, 'prompt_tokens': 534, 'total_tokens': 552, 'completion_time': 0.048602527, 'prompt_time': 0.045895726, 'queue_time': 0.049398524, 'total_time': 0.094498253}, 'model_name': 'llama-3.3-70b-versatile', 'system_fingerprint': 'fp_2ddfbb0da0', 'service_tier': 'on_demand', 'finish_reason': 'tool_calls', 'logprobs': None, 'model_provider': 'groq'}, id='lc_run--10919899-ee1d-4de6-9f3c-50cc3422a8a1-0', tool_calls=[{'name': 'langsmith_search', 'args': {'query': 'Langsmith information'}, 'id': 'mp1z7emdx', 'type': 'tool_call'}], usage_metadata={'input_tokens': 534, 'output_tokens': 18, 'total_tokens': 552}),\n",
       "  ToolMessage(content=\"It helps you trace requests, evaluate outputs, test prompts, and manage deployments in one place.\\nLangSmith is framework agnostic, so you can use it with or without LangChain’s open-source libraries\\nlangchain and langgraph.\\nPrototype locally, then move to production with integrated monitoring and evaluation to build more reliable AI systems.\\nLangGraph Platform is now LangSmith Deployment. For more information, check out the Changelog.\\n\\u200bGet started\\nCreate an accountSign up at smith.langchain.com (no credit card required).\\nYou can log in with Google, GitHub, or email.Create an API keyGo to your Settings page → API Keys → Create API Key.\\nCopy the key and save it securely.\\nOnce your account and API key are ready, choose a quickstart to begin building with LangSmith:\\n\\nLangSmith docs - Docs by LangChainSkip to main contentWe've raised a $125M Series B to build the platform for agent engineering. Read more.Docs by LangChain home pageLangSmithSearch...⌘KGitHubTry LangSmithTry LangSmithSearch...NavigationLangSmith docsGet startedObservabilityEvaluationPrompt engineeringDeploymentAgent BuilderHostingOverviewPlansCreate an account and API keyAccount administrationOverviewSet up a workspaceManage organizations using the APIManage billingSet up resource tagsUser managementReferenceLangSmith Python SDKLangSmith JS/TS SDKLangGraph Python SDKLangGraph JS/TS SDKLangSmith APIAPI reference for LangSmith DeploymentAdditional resourcesReleases & changelogsData managementScalability & resilienceAuthentication methodsFAQsRegions FAQPricing FAQLangSmith docsCopy pageCopy pageLangSmith provides tools for developing, debugging, and deploying LLM applications.\\nIt helps you trace requests, evaluate outputs, test prompts, and manage deployments in one place.\\n\\nCopy the key and save it securely.\\nOnce your account and API key are ready, choose a quickstart to begin building with LangSmith:\\nObservabilityGain visibility into every step your application takes to debug faster and improve reliability.Start tracingEvaluationMeasure and track quality over time to ensure your AI applications are consistent and trustworthy.Evaluate your appDeploymentDeploy your agents as LangGraph Servers, ready to scale in production.Deploy your agentsPrompt TestingIterate on prompts with built-in versioning and collaboration to ship improvements faster.Test your promptsStudioUse a visual interface to design, test, and refine applications end-to-end.Develop with StudioHostingHost LangSmith in the cloud, in your environment, or hybrid to match your infrastructure and compliance needs.Choose your hosting mode\\n\\u200bWorkflow\\nLangSmith combines observability, evaluation, deployment, and hosting in one integrated workflow—from local development to production.\\n\\nEdit the source of this page on GitHub.\\nConnect these docs programmatically to Claude, VSCode, and more via MCP for    real-time answers.Was this page helpful?YesNoPricing plansNext⌘IDocs by LangChain home pagegithubxlinkedinyoutubeResourcesForumChangelogLangChain AcademyTrust CenterCompanyAboutCareersBloggithubxlinkedinyoutubePowered by Mintlify\", name='langsmith_search', id='660ac07c-b3b7-4c5d-9634-aa4df2768a63', tool_call_id='mp1z7emdx'),\n",
       "  AIMessage(content=\"LangSmith is a platform that provides tools for developing, debugging, and deploying Large Language Model (LLM) applications. It offers features such as observability, evaluation, deployment, and hosting, allowing users to trace requests, evaluate outputs, test prompts, and manage deployments in one place. LangSmith is framework-agnostic, meaning it can be used with or without LangChain's open-source libraries, and it provides a visual interface for designing, testing, and refining applications end-to-end. Additionally, LangSmith offers hosting options, including cloud, on-premises, and hybrid, to match users' infrastructure and compliance needs.\", additional_kwargs={}, response_metadata={'token_usage': {'completion_tokens': 127, 'prompt_tokens': 1172, 'total_tokens': 1299, 'completion_time': 0.281549931, 'prompt_time': 0.099839107, 'queue_time': 0.044562923, 'total_time': 0.381389038}, 'model_name': 'llama-3.3-70b-versatile', 'system_fingerprint': 'fp_2ddfbb0da0', 'service_tier': 'on_demand', 'finish_reason': 'stop', 'logprobs': None, 'model_provider': 'groq'}, id='lc_run--4ccc1993-63ec-49b3-899a-ac971d790c83-0', usage_metadata={'input_tokens': 1172, 'output_tokens': 127, 'total_tokens': 1299})]}"
      ]
     },
     "execution_count": 65,
     "metadata": {},
     "output_type": "execute_result"
    }
   ],
   "source": [
    "search_agent.invoke(\n",
    "    {\"messages\": [{\"role\": \"user\", \"content\": \"Tell me about Langsmith from langsmith search\"}]}\n",
    ")"
   ]
  },
  {
   "cell_type": "code",
   "execution_count": 71,
   "id": "3a1bd50d",
   "metadata": {},
   "outputs": [
    {
     "data": {
      "text/plain": [
       "{'messages': [HumanMessage(content='Tell about langsmith', additional_kwargs={}, response_metadata={}, id='d23c3430-d127-4190-95c0-a399efed8883'),\n",
       "  AIMessage(content='', additional_kwargs={'tool_calls': [{'id': 'y6rpm29jf', 'function': {'arguments': '{\"query\":\"LangSmith information\"}', 'name': 'langsmith_search'}, 'type': 'function'}]}, response_metadata={'token_usage': {'completion_tokens': 18, 'prompt_tokens': 529, 'total_tokens': 547, 'completion_time': 0.050103977, 'prompt_time': 0.045016544, 'queue_time': 0.045558086, 'total_time': 0.095120521}, 'model_name': 'llama-3.3-70b-versatile', 'system_fingerprint': 'fp_6507bcfb6f', 'service_tier': 'on_demand', 'finish_reason': 'tool_calls', 'logprobs': None, 'model_provider': 'groq'}, id='lc_run--8ef31e1f-8ad3-4271-959e-b6f3c5d65c46-0', tool_calls=[{'name': 'langsmith_search', 'args': {'query': 'LangSmith information'}, 'id': 'y6rpm29jf', 'type': 'tool_call'}], usage_metadata={'input_tokens': 529, 'output_tokens': 18, 'total_tokens': 547}),\n",
       "  ToolMessage(content=\"It helps you trace requests, evaluate outputs, test prompts, and manage deployments in one place.\\nLangSmith is framework agnostic, so you can use it with or without LangChain’s open-source libraries\\nlangchain and langgraph.\\nPrototype locally, then move to production with integrated monitoring and evaluation to build more reliable AI systems.\\nLangGraph Platform is now LangSmith Deployment. For more information, check out the Changelog.\\n\\u200bGet started\\nCreate an accountSign up at smith.langchain.com (no credit card required).\\nYou can log in with Google, GitHub, or email.Create an API keyGo to your Settings page → API Keys → Create API Key.\\nCopy the key and save it securely.\\nOnce your account and API key are ready, choose a quickstart to begin building with LangSmith:\\n\\nLangSmith docs - Docs by LangChainSkip to main contentWe've raised a $125M Series B to build the platform for agent engineering. Read more.Docs by LangChain home pageLangSmithSearch...⌘KGitHubTry LangSmithTry LangSmithSearch...NavigationLangSmith docsGet startedObservabilityEvaluationPrompt engineeringDeploymentAgent BuilderHostingOverviewPlansCreate an account and API keyAccount administrationOverviewSet up a workspaceManage organizations using the APIManage billingSet up resource tagsUser managementReferenceLangSmith Python SDKLangSmith JS/TS SDKLangGraph Python SDKLangGraph JS/TS SDKLangSmith APIAPI reference for LangSmith DeploymentAdditional resourcesReleases & changelogsData managementScalability & resilienceAuthentication methodsFAQsRegions FAQPricing FAQLangSmith docsCopy pageCopy pageLangSmith provides tools for developing, debugging, and deploying LLM applications.\\nIt helps you trace requests, evaluate outputs, test prompts, and manage deployments in one place.\\n\\nCopy the key and save it securely.\\nOnce your account and API key are ready, choose a quickstart to begin building with LangSmith:\\nObservabilityGain visibility into every step your application takes to debug faster and improve reliability.Start tracingEvaluationMeasure and track quality over time to ensure your AI applications are consistent and trustworthy.Evaluate your appDeploymentDeploy your agents as LangGraph Servers, ready to scale in production.Deploy your agentsPrompt TestingIterate on prompts with built-in versioning and collaboration to ship improvements faster.Test your promptsStudioUse a visual interface to design, test, and refine applications end-to-end.Develop with StudioHostingHost LangSmith in the cloud, in your environment, or hybrid to match your infrastructure and compliance needs.Choose your hosting mode\\n\\u200bWorkflow\\nLangSmith combines observability, evaluation, deployment, and hosting in one integrated workflow—from local development to production.\\n\\nEdit the source of this page on GitHub.\\nConnect these docs programmatically to Claude, VSCode, and more via MCP for    real-time answers.Was this page helpful?YesNoPricing plansNext⌘IDocs by LangChain home pagegithubxlinkedinyoutubeResourcesForumChangelogLangChain AcademyTrust CenterCompanyAboutCareersBloggithubxlinkedinyoutubePowered by Mintlify\", name='langsmith_search', id='b8d569d9-466e-4854-9ea9-77185b3b6c4e', tool_call_id='y6rpm29jf'),\n",
       "  AIMessage(content=\"LangSmith is a platform that provides tools for developing, debugging, and deploying Large Language Model (LLM) applications. It offers features such as observability, evaluation, deployment, and hosting, allowing users to trace requests, evaluate outputs, test prompts, and manage deployments in one place. LangSmith is framework-agnostic, meaning it can be used with or without LangChain's open-source libraries, and it provides a visual interface for designing, testing, and refining applications end-to-end. Additionally, LangSmith offers hosting options, including cloud, on-premises, and hybrid, to match users' infrastructure and compliance needs.\", additional_kwargs={}, response_metadata={'token_usage': {'completion_tokens': 127, 'prompt_tokens': 1167, 'total_tokens': 1294, 'completion_time': 0.271391689, 'prompt_time': 0.102621697, 'queue_time': 0.044880082, 'total_time': 0.374013386}, 'model_name': 'llama-3.3-70b-versatile', 'system_fingerprint': 'fp_2ddfbb0da0', 'service_tier': 'on_demand', 'finish_reason': 'stop', 'logprobs': None, 'model_provider': 'groq'}, id='lc_run--d1f7f4ae-264f-4865-b5dc-2c3dd31d01c6-0', usage_metadata={'input_tokens': 1167, 'output_tokens': 127, 'total_tokens': 1294})]}"
      ]
     },
     "execution_count": 71,
     "metadata": {},
     "output_type": "execute_result"
    }
   ],
   "source": [
    "search_agent.invoke(\n",
    "    {\"messages\": [{\"role\": \"user\", \"content\": \"Tell about langsmith\"}]}\n",
    ")"
   ]
  },
  {
   "cell_type": "code",
   "execution_count": null,
   "id": "ef12678f",
   "metadata": {},
   "outputs": [],
   "source": []
  }
 ],
 "metadata": {
  "kernelspec": {
   "display_name": "rag1",
   "language": "python",
   "name": "python3"
  },
  "language_info": {
   "codemirror_mode": {
    "name": "ipython",
    "version": 3
   },
   "file_extension": ".py",
   "mimetype": "text/x-python",
   "name": "python",
   "nbconvert_exporter": "python",
   "pygments_lexer": "ipython3",
   "version": "3.13.5"
  }
 },
 "nbformat": 4,
 "nbformat_minor": 5
}
